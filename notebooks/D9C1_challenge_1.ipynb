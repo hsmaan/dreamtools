{
 "cells": [
  {
   "cell_type": "code",
   "execution_count": 2,
   "metadata": {
    "collapsed": false
   },
   "outputs": [
    {
     "name": "stdout",
     "output_type": "stream",
     "text": [
      "Populating the interactive namespace from numpy and matplotlib\n"
     ]
    }
   ],
   "source": [
    "%pylab inline\n",
    "matplotlib.rcParams['figure.figsize'] = (10,8)"
   ]
  },
  {
   "cell_type": "code",
   "execution_count": 3,
   "metadata": {
    "collapsed": true
   },
   "outputs": [],
   "source": [
    "from dreamtools import D9C1"
   ]
  },
  {
   "cell_type": "code",
   "execution_count": 4,
   "metadata": {
    "collapsed": false
   },
   "outputs": [],
   "source": [
    "# downloads missing data automatically is not yet downloaded\n",
    "s = D9C1()"
   ]
  },
  {
   "cell_type": "code",
   "execution_count": 6,
   "metadata": {
    "collapsed": false
   },
   "outputs": [
    {
     "name": "stdout",
     "output_type": "stream",
     "text": [
      "Opening https://www.synapse.org/#!Synapse:syn2384331\n"
     ]
    }
   ],
   "source": [
    "# open new browser tab with synapse page of the challenge\n",
    "s.onweb()"
   ]
  },
  {
   "cell_type": "code",
   "execution_count": 5,
   "metadata": {
    "collapsed": false
   },
   "outputs": [
    {
     "name": "stdout",
     "output_type": "stream",
     "text": [
      "Challenge D9C1\n",
      "===============\n",
      "Note that this challenge contains sub-challenges.\n",
      " * sc1 \n",
      " * sc3 \n",
      " * sc2 \n",
      "\n",
      "\n",
      ":Title: Broad-DREAM Gene Essentiality Prediction\n",
      ":Alias: D9C1\n",
      ":Summary: Develop predictive models for infer genes that are essential to cancer cell viability using gene expression and/or gene copy number features\n",
      ":SubChallenges: sc1 sc3 sc2\n",
      ":Synapse page: https://www.synapse.org/#!Synapse:syn2384331\n",
      "\n",
      "\n",
      "Visit http://dreamchallenges.org to get more information about the challenge\n",
      "\n",
      "\n",
      "Any issues/suggestions about DREAMTools itself ? Please visit http://github.com/dreamtools/\n",
      "\n",
      "\n"
     ]
    }
   ],
   "source": [
    "print(s)"
   ]
  },
  {
   "cell_type": "code",
   "execution_count": 8,
   "metadata": {
    "collapsed": false
   },
   "outputs": [],
   "source": [
    "template_filename = s.download_template(\"sc1\")"
   ]
  },
  {
   "cell_type": "code",
   "execution_count": 29,
   "metadata": {
    "collapsed": false
   },
   "outputs": [],
   "source": [
    "# the template has random gaussian distribution with mu=0, sigma=3\n",
    "# Let us change it to mu=0.5, sigma = 2 to create a new dummy data set\n",
    "def build_prediction(filename):\n",
    "    prediction_filename = \"prediction.gct\"\n",
    "    from pylab import randn \n",
    "    with open(filename, \"r\") as fin:        \n",
    "        with open(prediction_filename, \"w\") as fout:\n",
    "            for i, line in enumerate(fin.readlines()):\n",
    "                if i in [0,1,2]:\n",
    "                    fout.write(line)\n",
    "                else:\n",
    "                    # lines are made of 2 strings and 44 numbers\n",
    "                    line = line.split(\"\\t\")\n",
    "                    values = 2**2 * randn(44) + 0.5\n",
    "                    values = [\"%.5d\" % x for x in values]\n",
    "                    \n",
    "                    newline = \"\\t\".join(list(line[0:2]) + values)+\"\\n\"\n",
    "                    \n",
    "                    fout.write(newline)\n",
    "    return prediction_filename\n",
    "                    \n",
    "                "
   ]
  },
  {
   "cell_type": "code",
   "execution_count": 30,
   "metadata": {
    "collapsed": false
   },
   "outputs": [],
   "source": [
    "prediction_filename = build_prediction(template_filename)"
   ]
  },
  {
   "cell_type": "code",
   "execution_count": 31,
   "metadata": {
    "collapsed": false
   },
   "outputs": [
    {
     "data": {
      "text/plain": [
       "{'score': -0.00049827458792755977}"
      ]
     },
     "execution_count": 31,
     "metadata": {},
     "output_type": "execute_result"
    }
   ],
   "source": [
    "# The scoring function computes the Spearman correlation \n",
    "# and as expected it is close to zero\n",
    "s.score(prediction_filename, \"sc1\")"
   ]
  },
  {
   "cell_type": "code",
   "execution_count": null,
   "metadata": {
    "collapsed": true
   },
   "outputs": [],
   "source": []
  }
 ],
 "metadata": {
  "kernelspec": {
   "display_name": "Python 2",
   "language": "python",
   "name": "python2"
  },
  "language_info": {
   "codemirror_mode": {
    "name": "ipython",
    "version": 2
   },
   "file_extension": ".py",
   "mimetype": "text/x-python",
   "name": "python",
   "nbconvert_exporter": "python",
   "pygments_lexer": "ipython2",
   "version": "2.7.11"
  }
 },
 "nbformat": 4,
 "nbformat_minor": 0
}
